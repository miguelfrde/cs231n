{
 "cells": [
  {
   "cell_type": "markdown",
   "metadata": {},
   "source": [
    "# Analizing Magnatagatune"
   ]
  },
  {
   "cell_type": "code",
   "execution_count": 33,
   "metadata": {},
   "outputs": [
    {
     "name": "stdout",
     "output_type": "stream",
     "text": [
      "The autoreload extension is already loaded. To reload it, use:\n",
      "  %reload_ext autoreload\n"
     ]
    }
   ],
   "source": [
    "import collections\n",
    "import csv\n",
    "import operator\n",
    "import os\n",
    "\n",
    "import matplotlib.pyplot as plt\n",
    "\n",
    "%matplotlib inline\n",
    "plt.rcParams['figure.figsize'] = (10.0, 8.0) # set default size of plots\n",
    "plt.rcParams['image.interpolation'] = 'nearest'\n",
    "plt.rcParams['image.cmap'] = 'gray'\n",
    "\n",
    "# for auto-reloading external modules\n",
    "# see http://stackoverflow.com/questions/1907993/autoreload-of-modules-in-ipython\n",
    "%load_ext autoreload\n",
    "%autoreload 2"
   ]
  },
  {
   "cell_type": "code",
   "execution_count": 107,
   "metadata": {},
   "outputs": [],
   "source": [
    "PATH_DATASET = 'datasets/maganatagatune'\n",
    "ANNOTATIONS_CSV = os.path.join(PATH_DATASET, 'annotations_final.csv')\n",
    "\n",
    "genres = {}\n",
    "with open(ANNOTATIONS_CSV, 'r') as tsvfile:\n",
    "    reader = csv.DictReader(tsvfile, dialect='excel-tab')\n",
    "    genres = {genre: 0 for genre in reader.fieldnames[1:-1]}  # 0:clip_id, -1:mp3_path\n",
    "    for row in reader:\n",
    "        for tag in genres:\n",
    "            genres[tag] += int(row[tag])"
   ]
  },
  {
   "cell_type": "code",
   "execution_count": 108,
   "metadata": {
    "scrolled": true
   },
   "outputs": [
    {
     "name": "stdout",
     "output_type": "stream",
     "text": [
      "['guitar', 'classical', 'slow', 'techno', 'strings', 'drums', 'electronic', 'rock', 'fast', 'piano', 'ambient', 'beat', 'violin', 'vocal', 'synth', 'female', 'indian', 'opera', 'male', 'singing', 'vocals', 'no vocals', 'harpsichord', 'loud', 'quiet', 'flute', 'woman', 'male vocal', 'pop', 'no vocal', 'soft', 'sitar', 'solo', 'man', 'classic', 'choir', 'voice', 'new age', 'dance', 'female vocal', 'male voice', 'beats', 'harp', 'cello', 'no voice', 'weird', 'country', 'metal', 'female voice', 'choral']\n"
     ]
    },
    {
     "data": {
      "image/png": "[encoded data removed]",
      "text/plain": [
       "<matplotlib.figure.Figure at 0x10c21d860>"
      ]
     },
     "metadata": {},
     "output_type": "display_data"
    }
   ],
   "source": [
    "def plot_genre_dict(genres, top=None):\n",
    "    if top == None:\n",
    "        top = len(genres.items())\n",
    "    sorted_genres = list(reversed(sorted(genres.items(), key=operator.itemgetter(1))))\n",
    "    top_genres = sorted_genres[:top]\n",
    "    print([t[0] for t in top_genres])\n",
    "    plt.bar(range(len(top_genres)), [d[1] for d in top_genres], align='center')\n",
    "    plt.xticks(range(len(top_genres)), [d[0] for d in top_genres])\n",
    "    plt.show()\n",
    "    \n",
    "plot_genre_dict(genres, 50)"
   ]
  },
  {
   "cell_type": "markdown",
   "metadata": {},
   "source": [
    "**PROBLEM**: not all tags are genres. Let's see them."
   ]
  },
  {
   "cell_type": "code",
   "execution_count": 48,
   "metadata": {},
   "outputs": [
    {
     "name": "stdout",
     "output_type": "stream",
     "text": [
      "ambient\n",
      "airy\n",
      "acoustic\n",
      "acoustic guitar\n",
      "arabic\n",
      "bongos\n",
      "beats\n",
      "banjo\n",
      "birds\n",
      "bass\n",
      "bells\n",
      "blues\n",
      "beat\n",
      "baroque\n",
      "clasical\n",
      "chorus\n",
      "clarinet\n",
      "chimes\n",
      "classical\n",
      "classic\n",
      "chanting\n",
      "choral\n",
      "classical guitar\n",
      "country\n",
      "chant\n",
      "celtic\n",
      "cello\n",
      "calm\n",
      "clapping\n",
      "choir\n",
      "duet\n",
      "drum\n",
      "drums\n",
      "dark\n",
      "drone\n",
      "disco\n",
      "deep\n",
      "dance\n",
      "different\n",
      "eerie\n",
      "electric\n",
      "electronic\n",
      "electric guitar\n",
      "electro\n",
      "electronica\n",
      "echo\n",
      "eastern\n",
      "english\n",
      "female singing\n",
      "female opera\n",
      "funky\n",
      "foreign\n",
      "female\n",
      "folk\n",
      "female voice\n",
      "funk\n",
      "fast\n",
      "fast beat\n",
      "female vocal\n",
      "flutes\n",
      "female vocals\n",
      "flute\n",
      "female singer\n",
      "fiddle\n",
      "guitar\n",
      "girl\n",
      "guitars\n",
      "hard rock\n",
      "harpsichord\n",
      "heavy\n",
      "horns\n",
      "happy\n",
      "harpsicord\n",
      "horn\n",
      "heavy metal\n",
      "hard\n",
      "harp\n",
      "house\n",
      "hip hop\n",
      "irish\n",
      "instrumental\n",
      "industrial\n",
      "indian\n",
      "india\n",
      "jazz\n",
      "jungle\n",
      "jazzy\n",
      "keyboard\n",
      "loud\n",
      "lol\n",
      "low\n",
      "lute\n",
      "light\n",
      "male vocal\n",
      "men\n",
      "middle eastern\n",
      "medieval\n",
      "male voice\n",
      "male singer\n",
      "man singing\n",
      "male opera\n",
      "modern\n",
      "man\n",
      "mellow\n",
      "male vocals\n",
      "male\n",
      "monks\n",
      "metal\n",
      "no voice\n",
      "no strings\n",
      "no piano\n",
      "no voices\n",
      "no beat\n",
      "new age\n",
      "no singing\n",
      "not classical\n",
      "no violin\n",
      "not rock\n",
      "no guitar\n",
      "no vocal\n",
      "no vocals\n",
      "no flute\n",
      "no singer\n",
      "no drums\n",
      "not opera\n",
      "not english\n",
      "noise\n",
      "organ\n",
      "opera\n",
      "operatic\n",
      "oboe\n",
      "orchestral\n",
      "orchestra\n",
      "old\n",
      "oriental\n",
      "plucking\n",
      "percussion\n",
      "pop\n",
      "piano\n",
      "punk\n",
      "piano solo\n",
      "quiet\n",
      "quick\n",
      "repetitive\n",
      "reggae\n",
      "rock\n",
      "rap\n",
      "singer\n",
      "sitar\n",
      "silence\n",
      "soft rock\n",
      "spacey\n",
      "solo\n",
      "synth\n",
      "space\n",
      "strings\n",
      "string\n",
      "soprano\n",
      "strange\n",
      "synthesizer\n",
      "spanish\n",
      "sad\n",
      "sax\n",
      "slow\n",
      "scary\n",
      "singing\n",
      "soft\n",
      "trumpet\n",
      "talking\n",
      "tribal\n",
      "trance\n",
      "techno\n",
      "upbeat\n",
      "vocals\n",
      "violins\n",
      "voice\n",
      "violin\n",
      "viola\n",
      "vocal\n",
      "voices\n",
      "world\n",
      "woodwind\n",
      "wind\n",
      "weird\n",
      "woman\n",
      "woman singing\n",
      "water\n",
      "women\n"
     ]
    }
   ],
   "source": [
    "for tag in sorted(genres, key=operator.itemgetter(0)):\n",
    "    print(tag)"
   ]
  },
  {
   "cell_type": "code",
   "execution_count": 139,
   "metadata": {},
   "outputs": [
    {
     "name": "stdout",
     "output_type": "stream",
     "text": [
      "40\n"
     ]
    }
   ],
   "source": [
    "genre_tags = [\n",
    "    'ambient',\n",
    "    'arabic',\n",
    "    'blues',\n",
    "    'baroque',\n",
    "    ('classical', 'clasical'),\n",
    "    ('choir', 'choral'),\n",
    "    'country',\n",
    "    'celtic',\n",
    "    'disco',\n",
    "    'dance',\n",
    "    ('funk', 'funky'),\n",
    "    ('electronica', 'electronic', 'electro'),\n",
    "    ('female voice', 'female vocal', 'female vocals', 'female singer', 'female singing', 'woman singing'),\n",
    "    ('male voice', 'male vocal', 'male vocals', 'male singer', 'man singing'),\n",
    "    'folk',\n",
    "    'happy',\n",
    "    'eastern',\n",
    "    'middle eastern',\n",
    "    'medieval',\n",
    "    ('heavy metal', 'heavy', 'metal'),\n",
    "    'hip hop',\n",
    "    'industrial',\n",
    "    ('indian', 'india'),\n",
    "    'irish',\n",
    "    ('jazz', 'jazzy'),\n",
    "    'jungle',\n",
    "    'new age',\n",
    "    ('instrumental', 'no voice', 'no voices', 'no singing', 'no vocal', 'no vocals'),\n",
    "    ('opera', 'male opera', 'female opera', 'operatic'),\n",
    "    'oriental',\n",
    "    'pop',\n",
    "    'punk',\n",
    "    'reggae',\n",
    "    'rock',\n",
    "    'hard rock',\n",
    "    'soft rock',\n",
    "    'rap',\n",
    "    'trance',\n",
    "    'techno',\n",
    "    'world',\n",
    "]\n",
    "\n",
    "genre_dict = {}\n",
    "accepted_genres = set()\n",
    "for genre in genre_tags:\n",
    "    if isinstance(genre, tuple):\n",
    "        for genre_i in genre:\n",
    "            genre_dict[genre_i] = genre[0]\n",
    "        accepted_genres.add(genre[0])\n",
    "    else:\n",
    "        genre_dict[genre] = genre\n",
    "        accepted_genres.add(genre)\n",
    "\n",
    "print(len(accepted_genres))\n",
    "assert len(accepted_genres) == len(genre_tags)"
   ]
  },
  {
   "cell_type": "code",
   "execution_count": 140,
   "metadata": {},
   "outputs": [],
   "source": [
    "genres = {g: 0 for g in accepted_genres}\n",
    "with open(ANNOTATIONS_CSV, 'r') as tsvfile:\n",
    "    reader = csv.DictReader(tsvfile, dialect='excel-tab')\n",
    "    for row in reader:\n",
    "        for tag, accepted_genre in genre_dict.items():\n",
    "            genres[accepted_genre] += int(row[tag])"
   ]
  },
  {
   "cell_type": "code",
   "execution_count": 141,
   "metadata": {},
   "outputs": [
    {
     "name": "stdout",
     "output_type": "stream",
     "text": [
      "['classical', 'instrumental', 'electronica', 'techno', 'male voice', 'rock', 'ambient', 'female voice', 'opera', 'indian', 'choir', 'pop', 'heavy metal', 'jazz', 'new age', 'dance', 'country', 'eastern', 'baroque', 'funk', 'hard rock', 'trance', 'folk', 'oriental', 'medieval', 'irish', 'blues', 'middle eastern', 'punk', 'celtic', 'arabic', 'rap', 'industrial', 'world', 'hip hop', 'disco', 'soft rock', 'jungle', 'reggae', 'happy']\n"
     ]
    },
    {
     "data": {
      "image/png": "[encoded data removed]",
      "text/plain": [
       "<matplotlib.figure.Figure at 0x10c047828>"
      ]
     },
     "metadata": {},
     "output_type": "display_data"
    }
   ],
   "source": [
    "plot_genre_dict(genres)"
   ]
  },
  {
   "cell_type": "markdown",
   "metadata": {},
   "source": [
    "After grouping the ones I'm interested in, it turns out it's the same ones as before.\n",
    "The dataset is sadly not balanced, but we'll work with it since it seems to be quite a standard."
   ]
  },
  {
   "cell_type": "code",
   "execution_count": 142,
   "metadata": {},
   "outputs": [
    {
     "name": "stdout",
     "output_type": "stream",
     "text": [
      "15661\n"
     ]
    }
   ],
   "source": [
    "with open(ANNOTATIONS_CSV, 'r') as tsvfile:\n",
    "    reader = csv.DictReader(tsvfile, dialect='excel-tab')\n",
    "    is_valid = lambda row: any([row[g] == '1' for g in accepted_genres])\n",
    "    print(len([row for row in reader if is_valid(row)]))"
   ]
  },
  {
   "cell_type": "code",
   "execution_count": null,
   "metadata": {
    "collapsed": true
   },
   "outputs": [],
   "source": []
  }
 ],
 "metadata": {
  "kernelspec": {
   "display_name": "Python 3",
   "language": "python",
   "name": "python3"
  },
  "language_info": {
   "codemirror_mode": {
    "name": "ipython",
    "version": 3
   },
   "file_extension": ".py",
   "mimetype": "text/x-python",
   "name": "python",
   "nbconvert_exporter": "python",
   "pygments_lexer": "ipython3",
   "version": "3.6.1"
  }
 },
 "nbformat": 4,
 "nbformat_minor": 2
}
