{
 "cells": [
  {
   "cell_type": "markdown",
   "metadata": {},
   "source": [
    "# Analizing Magnatagatune"
   ]
  },
  {
   "cell_type": "code",
   "execution_count": 1,
   "metadata": {
    "collapsed": true
   },
   "outputs": [],
   "source": [
    "import collections\n",
    "import csv\n",
    "import operator\n",
    "import os\n",
    "\n",
    "import tensorflow as tf\n",
    "import matplotlib.pyplot as plt\n",
    "\n",
    "%matplotlib inline\n",
    "plt.rcParams['figure.figsize'] = (10.0, 8.0) # set default size of plots\n",
    "plt.rcParams['image.interpolation'] = 'nearest'\n",
    "plt.rcParams['image.cmap'] = 'gray'\n",
    "\n",
    "# for auto-reloading external modules\n",
    "# see http://stackoverflow.com/questions/1907993/autoreload-of-modules-in-ipython\n",
    "%load_ext autoreload\n",
    "%autoreload 2"
   ]
  },
  {
   "cell_type": "code",
   "execution_count": 3,
   "metadata": {
    "collapsed": true
   },
   "outputs": [],
   "source": [
    "PATH_DATASET = 'datasets/magnatagatune'\n",
    "ANNOTATIONS_CSV = os.path.join(PATH_DATASET, 'annotations_final.csv')\n",
    "\n",
    "genres = {}\n",
    "with open(ANNOTATIONS_CSV, 'r') as tsvfile:\n",
    "    reader = csv.DictReader(tsvfile, dialect='excel-tab')\n",
    "    genres = {genre: 0 for genre in reader.fieldnames[1:-1]}  # 0:clip_id, -1:mp3_path\n",
    "    for row in reader:\n",
    "        for tag in genres:\n",
    "            genres[tag] += int(row[tag])"
   ]
  },
  {
   "cell_type": "code",
   "execution_count": 7,
   "metadata": {
    "scrolled": true
   },
   "outputs": [
    {
     "name": "stdout",
     "output_type": "stream",
     "text": [
      "188\n",
      "['guitar', 'classical', 'slow', 'techno', 'strings', 'drums', 'electronic', 'rock', 'fast', 'piano', 'ambient', 'beat', 'violin', 'vocal', 'synth', 'female', 'indian', 'opera', 'male', 'singing', 'vocals', 'no vocals', 'harpsichord', 'loud', 'quiet', 'flute', 'woman', 'male vocal', 'pop', 'no vocal', 'soft', 'sitar', 'solo', 'man', 'classic', 'choir', 'voice', 'new age', 'dance', 'female vocal', 'male voice', 'beats', 'harp', 'cello', 'no voice', 'weird', 'country', 'metal', 'female voice', 'choral']\n"
     ]
    },
    {
     "data": {
      "image/png": "[encoded data removed]",
      "text/plain": [
       "<matplotlib.figure.Figure at 0x113430978>"
      ]
     },
     "metadata": {},
     "output_type": "display_data"
    }
   ],
   "source": [
    "def plot_genre_dict(genres, top=None):\n",
    "    print(len(genres))\n",
    "    if top == None:\n",
    "        top = len(genres.items())\n",
    "    sorted_genres = list(reversed(sorted(genres.items(), key=operator.itemgetter(1))))\n",
    "    top_genres = sorted_genres[:top]\n",
    "    print([g for g, _ in top_genres])\n",
    "    #print([t[0] for t in top_genres])\n",
    "    plt.bar(range(len(top_genres)), [d[1] for d in top_genres], align='center')\n",
    "    plt.xticks(range(len(top_genres)), [d[0] for d in top_genres], rotation='vertical')\n",
    "    plt.show()\n",
    "    \n",
    "plot_genre_dict(genres, top=50)"
   ]
  },
  {
   "cell_type": "markdown",
   "metadata": {},
   "source": [
    "**PROBLEM**: not all tags are genres. Let's see them."
   ]
  },
  {
   "cell_type": "code",
   "execution_count": null,
   "metadata": {
    "collapsed": true
   },
   "outputs": [],
   "source": [
    "for tag in sorted(genres, key=operator.itemgetter(0))[:50]:\n",
    "    print(tag)"
   ]
  },
  {
   "cell_type": "code",
   "execution_count": null,
   "metadata": {
    "collapsed": true
   },
   "outputs": [],
   "source": [
    "genre_tags = [\n",
    "    'ambient',\n",
    "    'arabic',\n",
    "    'blues',\n",
    "    'baroque',\n",
    "    ('classical', 'clasical'),\n",
    "    ('choir', 'choral'),\n",
    "    'country',\n",
    "    'celtic',\n",
    "    'disco',\n",
    "    'dance',\n",
    "    ('funk', 'funky'),\n",
    "    ('electronica', 'electro'),\n",
    "    #('female voice', 'female vocal', 'female vocals', 'female singer', 'female singing', 'woman singing'),\n",
    "    #('male voice', 'male vocal', 'male vocals', 'male singer', 'man singing'),\n",
    "    'folk',\n",
    "    'happy',\n",
    "    'eastern',\n",
    "    'middle eastern',\n",
    "    'medieval',\n",
    "    ('heavy metal', 'heavy', 'metal'),\n",
    "    'hip hop',\n",
    "    'industrial',\n",
    "    ('indian', 'india'),\n",
    "    'irish',\n",
    "    ('jazz', 'jazzy'),\n",
    "    'jungle',\n",
    "    'new age',\n",
    "    ('instrumental', 'no voice', 'no voices', 'no singing', 'no vocal', 'no vocals'),\n",
    "    ('opera', 'male opera', 'female opera', 'operatic'),\n",
    "    'oriental',\n",
    "    'pop',\n",
    "    'punk',\n",
    "    'reggae',\n",
    "    'rock',\n",
    "    'hard rock',\n",
    "    'soft rock',\n",
    "    'rap',\n",
    "    'trance',\n",
    "    'techno',\n",
    "    'world',\n",
    "]\n",
    "\n",
    "genre_dict = {}\n",
    "accepted_genres = set()\n",
    "for genre in genre_tags:\n",
    "    if isinstance(genre, tuple):\n",
    "        for genre_i in genre:\n",
    "            genre_dict[genre_i] = genre[0]\n",
    "        accepted_genres.add(genre[0])\n",
    "    else:\n",
    "        genre_dict[genre] = genre\n",
    "        accepted_genres.add(genre)\n",
    "\n",
    "print(len(accepted_genres))\n",
    "assert len(accepted_genres) == len(genre_tags)"
   ]
  },
  {
   "cell_type": "code",
   "execution_count": null,
   "metadata": {
    "collapsed": true
   },
   "outputs": [],
   "source": [
    "genres = {g: 0 for g in accepted_genres}\n",
    "with open(ANNOTATIONS_CSV, 'r') as tsvfile:\n",
    "    reader = csv.DictReader(tsvfile, dialect='excel-tab')\n",
    "    for row in reader:\n",
    "        for tag, accepted_genre in genre_dict.items():\n",
    "            genres[accepted_genre] += int(row[tag])"
   ]
  },
  {
   "cell_type": "code",
   "execution_count": null,
   "metadata": {
    "collapsed": true
   },
   "outputs": [],
   "source": [
    "plot_genre_dict(genres, top=30)"
   ]
  },
  {
   "cell_type": "markdown",
   "metadata": {},
   "source": [
    "After grouping the ones I'm interested in, it turns out it's the same ones as before.\n",
    "The dataset is sadly not balanced, but we'll work with it since it seems to be quite a standard."
   ]
  },
  {
   "cell_type": "code",
   "execution_count": null,
   "metadata": {
    "collapsed": true
   },
   "outputs": [],
   "source": [
    "with open(ANNOTATIONS_CSV, 'r') as tsvfile:\n",
    "    reader = csv.DictReader(tsvfile, dialect='excel-tab')\n",
    "    genres = {genre: 0 for genre in reader.fieldnames[1:-1]}  # 0:clip_id, -1:mp3_path\n",
    "    for row in reader:\n",
    "        print([g for g in genres if row[g] == '1'])"
   ]
  },
  {
   "cell_type": "code",
   "execution_count": null,
   "metadata": {
    "collapsed": true
   },
   "outputs": [],
   "source": [
    "import tensorflow as tf\n",
    "\n",
    "with tf.Graph().as_default():\n",
    "    c  = tf.Variable([1,2, 3], name='c')\n",
    "    init_op = tf.global_variables_initializer()\n",
    "    saver = tf.train.Saver()\n",
    "    with tf.Session() as sess:\n",
    "      sess.run(init_op)\n",
    "      save_path = saver.save(sess, \"test.ckpt\")"
   ]
  },
  {
   "cell_type": "code",
   "execution_count": null,
   "metadata": {
    "collapsed": true
   },
   "outputs": [],
   "source": [
    "with tf.Graph().as_default():\n",
    "    c  = tf.Variable([0,0,0], name='c')\n",
    "    saver = tf.train.Saver()\n",
    "    with tf.Session() as sess:\n",
    "        saver.restore(sess, \"test.ckpt\")\n",
    "        init_op = tf.global_variables_initializer()\n",
    "        sess.run(init_op)\n",
    "        print(c)"
   ]
  },
  {
   "cell_type": "code",
   "execution_count": null,
   "metadata": {
    "collapsed": true
   },
   "outputs": [],
   "source": [
    "import librosa\n",
    "import librosa.display\n",
    "import _pickle as pickle\n",
    "\n",
    "def plot_spectogram(x, tag=None):\n",
    "    plt.figure(figsize=(10, 5))\n",
    "    librosa.display.specshow(x.T, y_axis='mel', x_axis='time')\n",
    "    plt.colorbar(format='%+2.0f dB')\n",
    "    if tag:\n",
    "        plt.title('Melspectogram for ' + genre + ' 0')\n",
    "        plt.tight_layout()\n",
    "        \n",
    "\n",
    "with open('datasets/magnatagatune/train/0.pickle', 'rb') as f:\n",
    "    spectogram = pickle.load(f)\n",
    "    print(spectogram.shape)\n",
    "    plot_spectogram(spectogram)\n",
    "    \n",
    "with open('datasets/magnatagatune/train/filenames.pickle', 'rb') as f:\n",
    "    print(pickle.load(f)[0])\n",
    "    \n",
    "\n",
    "with open('datasets/magnatagatune/train/labels.pickle', 'rb') as f:\n",
    "    print(pickle.load(f)[0])"
   ]
  },
  {
   "cell_type": "code",
   "execution_count": null,
   "metadata": {
    "collapsed": true
   },
   "outputs": [],
   "source": [
    "import numpy as np\n",
    "\n",
    "\n",
    "CLASSES = [\n",
    "    'classical', 'instrumental', 'electronica', 'techno',\n",
    "    'male voice', 'rock', 'ambient', 'female voice', 'opera',\n",
    "    'indian', 'choir', 'pop', 'heavy metal', 'jazz', 'new age',\n",
    "    'dance', 'country', 'eastern', 'baroque', 'funk', 'hard rock',\n",
    "    'trance', 'folk', 'oriental', 'medieval', 'irish', 'blues',\n",
    "    'middle eastern', 'punk', 'celtic', 'arabic', 'rap',\n",
    "    'industrial', 'world', 'hip hop', 'disco', 'soft rock',\n",
    "    'jungle', 'reggae', 'happy',\n",
    "]\n",
    "CLASSES_DICT = {c: i for i, c in enumerate(CLASSES)}\n",
    "\n",
    "def get_class_vector(genres):\n",
    "    class_indices = np.array([CLASSES_DICT[g] for g in genres])\n",
    "    vector = np.zeros(len(CLASSES))\n",
    "    vector[class_indices] = 1\n",
    "    return vector\n",
    "\n",
    "with open('datasets/magnatagatune/annotations_final.csv', 'r') as tsvfile:\n",
    "    reader = csv.DictReader(tsvfile, dialect='excel-tab')\n",
    "    for i, row in enumerate(reader):\n",
    "        if row['mp3_path'] == '2/anup-embrace-08-resolve-117-146.mp3':\n",
    "            print([g for g in row if row[g] == '1'])\n",
    "            print(get_class_vector([g for g in CLASSES if row[g] == '1']))"
   ]
  },
  {
   "cell_type": "code",
   "execution_count": null,
   "metadata": {
    "collapsed": true
   },
   "outputs": [],
   "source": [
    "for serialized_example in tf.python_io.tf_record_iterator('datasets/magnatagatune/train/data.tfrecords'):\n",
    "    example = tf.train.Example()\n",
    "    example.ParseFromString(serialized_example)"
   ]
  },
  {
   "cell_type": "code",
   "execution_count": null,
   "metadata": {
    "collapsed": true
   },
   "outputs": [],
   "source": [
    "x = \"\"\"\n",
    "Epoch 1 / 100\n",
    "  Train accuracy: 26.228497\n",
    "  Val accuracy: 26.282499\n",
    "\n",
    "Epoch 2 / 100\n",
    "  Train accuracy: 26.339452\n",
    "  Val accuracy: 26.403020\n",
    "\n",
    "Epoch 3 / 100\n",
    "  Train accuracy: 26.122354\n",
    "  Val accuracy: 26.165532\n",
    "\n",
    "Epoch 4 / 100\n",
    "  Train accuracy: 22.425833\n",
    "  Val accuracy: 22.456322\n",
    "\n",
    "Epoch 5 / 100\n",
    "  Train accuracy: 25.911103\n",
    "  Val accuracy: 25.989044\n",
    "\n",
    "Epoch 6 / 100\n",
    "  Train accuracy: 24.456995\n",
    "  Val accuracy: 24.555819\n",
    "\n",
    "Epoch 7 / 100\n",
    "  Train accuracy: 23.011917\n",
    "  Val accuracy: 23.167308\n",
    "\n",
    "Epoch 8 / 100\n",
    "  Train accuracy: 22.304737\n",
    "  Val accuracy: 22.315369\n",
    "\n",
    "Epoch 9 / 100\n",
    "  Train accuracy: 23.682976\n",
    "  Val accuracy: 23.803672\n",
    "\n",
    "Epoch 10 / 100\n",
    "  Train accuracy: 26.418431\n",
    "  Val accuracy: 26.385253\n",
    "\n",
    "Epoch 11 / 100\n",
    "  Train accuracy: 26.240415\n",
    "  Val accuracy: 26.255848\n",
    "\n",
    "Epoch 12 / 100\n",
    "  Train accuracy: 26.240415\n",
    "  Val accuracy: 26.255848\n",
    "\n",
    "Epoch 13 / 100\n",
    "  Train accuracy: 26.240415\n",
    "  Val accuracy: 26.255848\n",
    "\n",
    "Epoch 14 / 100\n",
    "  Train accuracy: 26.240415\n",
    "  Val accuracy: 26.255848\n",
    "\n",
    "Epoch 15 / 100\n",
    "  Train accuracy: 26.240415\n",
    "  Val accuracy: 26.255848\n",
    "\n",
    "Epoch 16 / 100\n",
    "  Train accuracy: 26.240415\n",
    "  Val accuracy: 26.255848\n",
    "  \n",
    "Epoch 17 / 100\n",
    "  Train accuracy: 26.240415\n",
    "  Val accuracy: 26.255848\n",
    "\"\"\"\n",
    "\n"
   ]
  }
 ],
 "metadata": {
  "kernelspec": {
   "display_name": "Python 3",
   "language": "python",
   "name": "python3"
  },
  "language_info": {
   "codemirror_mode": {
    "name": "ipython",
    "version": 3
   },
   "file_extension": ".py",
   "mimetype": "text/x-python",
   "name": "python",
   "nbconvert_exporter": "python",
   "pygments_lexer": "ipython3",
   "version": "3.6.1"
  }
 },
 "nbformat": 4,
 "nbformat_minor": 2
}
